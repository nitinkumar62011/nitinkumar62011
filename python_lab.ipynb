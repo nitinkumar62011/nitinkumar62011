{
 "cells": [
  {
   "cell_type": "code",
   "execution_count": 1,
   "id": "stretch-paraguay",
   "metadata": {},
   "outputs": [
    {
     "name": "stdout",
     "output_type": "stream",
     "text": [
      "Enter the list of numbers: 3 4 555 4\n",
      "Sorted list: [3, 4, 4, 555]\n"
     ]
    }
   ],
   "source": [
    "#merge sort\n",
    "def merge_sort(alist, start, end):\n",
    "    '''Sorts the list from indexes start to end - 1 inclusive.'''\n",
    "    if end - start > 1:\n",
    "        mid = (start + end)//2\n",
    "        merge_sort(alist, start, mid)\n",
    "        merge_sort(alist, mid, end)\n",
    "        merge_list(alist, start, mid, end)\n",
    "def merge_list(alist, start, mid, end):\n",
    "    left = alist[start:mid]\n",
    "    right = alist[mid:end]\n",
    "    k = start\n",
    "    i = 0\n",
    "    j = 0\n",
    "    while (start + i < mid and mid + j < end):\n",
    "        if (left[i] <= right[j]):\n",
    "            alist[k] = left[i]\n",
    "            i = i + 1\n",
    "        else:\n",
    "            alist[k] = right[j]\n",
    "            j = j + 1\n",
    "        k = k + 1\n",
    "    if start + i < mid:\n",
    "        while k < end:\n",
    "            alist[k] = left[i]\n",
    "            i = i + 1\n",
    "            k = k + 1\n",
    "        else:\n",
    "            while k < end:\n",
    "                alist[k] = right[j]\n",
    "                j = j + 1\n",
    "                k = k + 1\n",
    "alist = input('Enter the list of numbers: ').split()\n",
    "alist = [int(x) for x in alist]\n",
    "merge_sort(alist, 0, len(alist))\n",
    "print('Sorted list: ', end='')\n",
    "print(alist)\n"
   ]
  },
  {
   "cell_type": "code",
   "execution_count": 2,
   "id": "ready-error",
   "metadata": {},
   "outputs": [
    {
     "name": "stdout",
     "output_type": "stream",
     "text": [
      "Element is present at index  4\n"
     ]
    }
   ],
   "source": [
    "#binary sort\n",
    "def binarySearch(arr, l, r, x):\n",
    "    while l <= r:\n",
    "        mid =( l + r)//2\n",
    "        # Check if x is present at mid\n",
    "        if arr[mid] == x:\n",
    "            return mid\n",
    "            # If x is greater, ignore left half\n",
    "        elif arr[mid] < x:\n",
    "            l = mid + 1\n",
    "            # If x is smaller, ignore right half\n",
    "        else:\n",
    "            r = mid - 1\n",
    "            # If we reach here, then the element\n",
    "            # was not present\n",
    "            return -1\n",
    "# Test array\n",
    "arr = [ 2, 3, 4, 10, 40 ]\n",
    "x = 40\n",
    "# Function call\n",
    "result = binarySearch(arr, 0, len(arr)-1, x)\n",
    "if result != None:\n",
    "    print (\"Element is present at index % d\" % result)\n",
    "else:\n",
    "    print (\"Element is not present in array\")"
   ]
  },
  {
   "cell_type": "code",
   "execution_count": 3,
   "id": "therapeutic-tennis",
   "metadata": {},
   "outputs": [
    {
     "name": "stdout",
     "output_type": "stream",
     "text": [
      "The square root is 10.0\n"
     ]
    }
   ],
   "source": [
    "#newton square\n",
    "def newtonSqrt(n):\n",
    "    approx = 0.5 * n\n",
    "    better = 0.5 * (approx + n/approx)\n",
    "    while better != approx:\n",
    "        approx = better\n",
    "        better = 0.5 * (approx + n/approx)\n",
    "    return approx\n",
    "print('The square root is' ,newtonSqrt(100))"
   ]
  },
  {
   "cell_type": "code",
   "execution_count": 4,
   "id": "distributed-tribune",
   "metadata": {},
   "outputs": [
    {
     "name": "stdout",
     "output_type": "stream",
     "text": [
      "Enter number starting: 1\n",
      "Enter number ending: 100\n",
      "Prime numbers between 1 and 100 are:\n",
      "2\n",
      "3\n",
      "5\n",
      "7\n",
      "11\n",
      "13\n",
      "17\n",
      "19\n",
      "23\n",
      "29\n",
      "31\n",
      "37\n",
      "41\n",
      "43\n",
      "47\n",
      "53\n",
      "59\n",
      "61\n",
      "67\n",
      "71\n",
      "73\n",
      "79\n",
      "83\n",
      "89\n",
      "97\n"
     ]
    }
   ],
   "source": [
    "#prime Number\n",
    "# change the values of lower and upper for a different result\n",
    "lower = int(input(\"Enter number starting: \"))\n",
    "upper = int(input(\"Enter number ending: \"))\n",
    "print(\"Prime numbers between\",lower,\"and\",upper,\"are:\")\n",
    "for num in range(lower,upper + 1):\n",
    "#prime numbers are greater than 1\n",
    "    if num > 1:\n",
    "        for i in range(2,num):\n",
    "            if (num % i) == 0:\n",
    "                break\n",
    "        else:\n",
    "            print(num)\n"
   ]
  },
  {
   "cell_type": "code",
   "execution_count": 5,
   "id": "quarterly-newman",
   "metadata": {},
   "outputs": [
    {
     "name": "stdout",
     "output_type": "stream",
     "text": [
      "The GCD. of 54 and 24 is 6\n"
     ]
    }
   ],
   "source": [
    "#GCD\n",
    "def computeGCD(x, y):\n",
    "    if x > y:\n",
    "        smaller = y\n",
    "    else:\n",
    "        smaller = x\n",
    "    for i in range(1, smaller+1):\n",
    "        if((x % i == 0) and (y % i == 0)):\n",
    "            gcd = i\n",
    "    return gcd\n",
    "num1 = 54\n",
    "num2 = 24\n",
    "# take input from the user\n",
    "# num1 = int(input(\"Enter first number: \"))\n",
    "# num2 = int(input(\"Enter second number: \"))\n",
    "print(\"The GCD. of\", num1,\"and\", num2,\"is\", computeGCD(num1, num2))"
   ]
  },
  {
   "cell_type": "code",
   "execution_count": 6,
   "id": "northern-drunk",
   "metadata": {},
   "outputs": [
    {
     "name": "stdout",
     "output_type": "stream",
     "text": [
      "Enter the list of numbers: 4 45 5 23 5666\n",
      "Sorted list: [4, 5, 23, 45, 5666]\n"
     ]
    }
   ],
   "source": [
    "#insertion_sort\n",
    "def insertion_sort(alist):\n",
    "    for i in range(1, len(alist)):\n",
    "        temp = alist[i]\n",
    "        j = i - 1\n",
    "        while (j >= 0 and temp < alist[j]):\n",
    "            alist[j + 1] = alist[j]\n",
    "            j = j - 1\n",
    "        alist[j + 1] = temp\n",
    "alist = input('Enter the list of numbers: ').split()\n",
    "alist = [int(x) for x in alist]\n",
    "insertion_sort(alist)\n",
    "print('Sorted list: ', end='')\n",
    "print(alist)"
   ]
  },
  {
   "cell_type": "code",
   "execution_count": 7,
   "id": "posted-laugh",
   "metadata": {},
   "outputs": [
    {
     "name": "stdout",
     "output_type": "stream",
     "text": [
      "Enter the list of numbers: 34 34 45 3333 3\n",
      "Sorted list: [3, 34, 34, 45, 3333]\n"
     ]
    }
   ],
   "source": [
    "#selection_sort\n",
    "def selection_sort(alist):\n",
    "    for i in range(0, len(alist) - 1):\n",
    "        smallest = i\n",
    "        for j in range(i + 1, len(alist)):\n",
    "            if alist[j] < alist[smallest]:\n",
    "                smallest = j\n",
    "                alist[i], alist[smallest] = alist[smallest], alist[i]\n",
    "alist = input('Enter the list of numbers: ').split()\n",
    "alist = [int(x) for x in alist]\n",
    "selection_sort(alist)\n",
    "print('Sorted list: ', end='')\n",
    "print(alist)"
   ]
  },
  {
   "cell_type": "code",
   "execution_count": 8,
   "id": "local-protocol",
   "metadata": {},
   "outputs": [
    {
     "name": "stdout",
     "output_type": "stream",
     "text": [
      "enter the upper limit4\n",
      "enter the numbers3\n",
      "enter the numbers4\n",
      "enter the numbers4\n",
      "enter the numbers4\n",
      "The maximum number is 4\n"
     ]
    }
   ],
   "source": [
    "#maximum number\n",
    "l=[]\n",
    "n=int(input(\"enter the upper limit\"))\n",
    "for i in range(0,n):\n",
    "    a=int(input(\"enter the numbers\"))\n",
    "    l.append(a)\n",
    "maxno=l[0]\n",
    "for i in range(0,len(l)):\n",
    "    if l[i]>maxno:\n",
    "        maxno=l[i]\n",
    "print(\"The maximum number is %d\"%maxno)"
   ]
  },
  {
   "cell_type": "code",
   "execution_count": 9,
   "id": "sufficient-upper",
   "metadata": {},
   "outputs": [
    {
     "name": "stdout",
     "output_type": "stream",
     "text": [
      "list of items is [5, 7, 10, 12, 15]\n",
      "enter item to search:0\n",
      "item not found\n"
     ]
    }
   ],
   "source": [
    "#linear_search\n",
    "items = [5, 7, 10, 12, 15]\n",
    "print(\"list of items is\", items)\n",
    "x = int(input(\"enter item to search:\"))\n",
    "i = flag = 0\n",
    "while i < len(items):\n",
    "    if items[i] == x:\n",
    "        flag = 1\n",
    "        break\n",
    "    i = i + 1\n",
    "if flag == 1:\n",
    "    print(\"item found at position:\", i + 1)\n",
    "else:\n",
    "    print(\"item not found\")"
   ]
  },
  {
   "cell_type": "code",
   "execution_count": 10,
   "id": "african-excitement",
   "metadata": {},
   "outputs": [
    {
     "name": "stdout",
     "output_type": "stream",
     "text": [
      "Enter base: 3\n",
      "Enter exponential value: 4\n",
      "Result: 81\n"
     ]
    }
   ],
   "source": [
    "#exponential\n",
    "def power(base,exp):\n",
    "    if(exp==1):\n",
    "        return(base)\n",
    "    if(exp!=1):\n",
    "        return(base*power(base,exp-1))\n",
    "base=int(input(\"Enter base: \"))\n",
    "exp=int(input(\"Enter exponential value: \"))\n",
    "print(\"Result:\",power(base,exp))"
   ]
  },
  {
   "cell_type": "code",
   "execution_count": null,
   "id": "minus-algorithm",
   "metadata": {},
   "outputs": [],
   "source": []
  }
 ],
 "metadata": {
  "kernelspec": {
   "display_name": "Python 3",
   "language": "python",
   "name": "python3"
  },
  "language_info": {
   "codemirror_mode": {
    "name": "ipython",
    "version": 3
   },
   "file_extension": ".py",
   "mimetype": "text/x-python",
   "name": "python",
   "nbconvert_exporter": "python",
   "pygments_lexer": "ipython3",
   "version": "3.9.2"
  }
 },
 "nbformat": 4,
 "nbformat_minor": 5
}
